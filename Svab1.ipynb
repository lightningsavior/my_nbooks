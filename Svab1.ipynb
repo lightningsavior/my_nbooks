{
 "cells": [
  {
   "cell_type": "markdown",
   "id": "8eda3c04-05ba-4e32-9e86-28e0c27012c7",
   "metadata": {},
   "source": [
    "# Amy Svab"
   ]
  },
  {
   "cell_type": "markdown",
   "id": "d875d60a-1763-46af-9ee9-b85e64f2940a",
   "metadata": {},
   "source": [
    "## Phases of Analysis and Visualization"
   ]
  },
  {
   "cell_type": "markdown",
   "id": "ed9c074e-1d7e-42ff-a6f0-017314c8f628",
   "metadata": {},
   "source": [
    "1. Data Collection\n",
    "2. Data Cleaning\n",
    "3. Data Exploration\n",
    "4. Data Analysis\n",
    "5. Data Visualization"
   ]
  }
 ],
 "metadata": {
  "kernelspec": {
   "display_name": "Python 3 (ipykernel)",
   "language": "python",
   "name": "python3"
  },
  "language_info": {
   "codemirror_mode": {
    "name": "ipython",
    "version": 3
   },
   "file_extension": ".py",
   "mimetype": "text/x-python",
   "name": "python",
   "nbconvert_exporter": "python",
   "pygments_lexer": "ipython3",
   "version": "3.12.4"
  }
 },
 "nbformat": 4,
 "nbformat_minor": 5
}
