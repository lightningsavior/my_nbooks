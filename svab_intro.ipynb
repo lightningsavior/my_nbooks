{
 "cells": [
  {
   "cell_type": "code",
   "execution_count": 1,
   "id": "aa0a0d70-d0c6-490f-951d-16c81e55f980",
   "metadata": {},
   "outputs": [],
   "source": [
    "# JupyterLab Week 1"
   ]
  },
  {
   "cell_type": "code",
   "execution_count": 3,
   "id": "5e496f1b-55a8-4172-a88b-08fe1872108b",
   "metadata": {},
   "outputs": [],
   "source": [
    "## Amy Svab"
   ]
  },
  {
   "cell_type": "code",
   "execution_count": 5,
   "id": "76e3159b-ccbc-4b26-b0f2-e14793d4ca9d",
   "metadata": {},
   "outputs": [],
   "source": [
    "import random\n",
    "nums = [random.randint(30, 100) for _ in range(40)]"
   ]
  },
  {
   "cell_type": "code",
   "execution_count": 7,
   "id": "9e4b1d40-d532-49cf-9028-0be3178b9d89",
   "metadata": {},
   "outputs": [
    {
     "name": "stdout",
     "output_type": "stream",
     "text": [
      "35 36 37 38 42 43 45 50 51 54 56 57 59 60 61 61 62 66 67 67 68 68 68 69 70 70 71 71 76 78 81 81 83 88 90 91 92 93 96 98\n"
     ]
    }
   ],
   "source": [
    "nums.sort()\n",
    "print(' '.join(map(str, nums)))"
   ]
  },
  {
   "cell_type": "code",
   "execution_count": 9,
   "id": "40b7813c-6518-4ca8-ad24-1295c3a3bda3",
   "metadata": {},
   "outputs": [],
   "source": [
    "## The Sample Mean"
   ]
  },
  {
   "cell_type": "markdown",
   "id": "07cdf99f-73ee-4ba7-b659-5a79de3ca5c5",
   "metadata": {},
   "source": [
    "$$ \\bar{x} = \\frac{\\sum{x_i}}{n} $$"
   ]
  },
  {
   "cell_type": "code",
   "execution_count": 12,
   "id": "26282dac-cd9d-40fd-baee-b90bd668d90b",
   "metadata": {},
   "outputs": [
    {
     "name": "stdout",
     "output_type": "stream",
     "text": [
      "The sample mean is 66.22\n"
     ]
    }
   ],
   "source": [
    "SampleMean = sum(nums) / len(nums)\n",
    "print(f'The sample mean is {SampleMean:.2f}')"
   ]
  },
  {
   "cell_type": "markdown",
   "id": "e3add050-943b-4d50-918a-2024b3727268",
   "metadata": {},
   "source": [
    "## The Median\n",
    "[Definition of statistical median](https://mathworld.wolfram.com/StatisticalMedian.html)."
   ]
  },
  {
   "cell_type": "code",
   "execution_count": 15,
   "id": "3b5a83c9-f362-424b-8a47-9396d64439dc",
   "metadata": {},
   "outputs": [
    {
     "name": "stdout",
     "output_type": "stream",
     "text": [
      "The median is 67.5\n"
     ]
    }
   ],
   "source": [
    "#The median is the middle value if it's odd\n",
    "#If the list is even, it's the average of the two middle values\n",
    "if len(nums) % 2 == 0:\n",
    "    median = (nums[len(nums) // 2 - 1] + nums[len(nums) // 2]) / 2\n",
    "else:\n",
    "    median = nums[len(nums) // 2]\n",
    "print(f'The median is {median:.1f}')"
   ]
  }
 ],
 "metadata": {
  "kernelspec": {
   "display_name": "Python 3 (ipykernel)",
   "language": "python",
   "name": "python3"
  },
  "language_info": {
   "codemirror_mode": {
    "name": "ipython",
    "version": 3
   },
   "file_extension": ".py",
   "mimetype": "text/x-python",
   "name": "python",
   "nbconvert_exporter": "python",
   "pygments_lexer": "ipython3",
   "version": "3.12.4"
  }
 },
 "nbformat": 4,
 "nbformat_minor": 5
}
